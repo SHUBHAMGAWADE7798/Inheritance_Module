{
 "cells": [
  {
   "cell_type": "code",
   "execution_count": 2,
   "id": "6c2b0e9b",
   "metadata": {},
   "outputs": [
    {
     "name": "stdout",
     "output_type": "stream",
     "text": [
      "Classification Report:\n",
      "\n",
      "              precision    recall  f1-score   support\n",
      "\n",
      "           0       1.00      1.00      1.00        19\n",
      "           1       1.00      1.00      1.00        13\n",
      "           2       1.00      1.00      1.00        13\n",
      "\n",
      "    accuracy                           1.00        45\n",
      "   macro avg       1.00      1.00      1.00        45\n",
      "weighted avg       1.00      1.00      1.00        45\n",
      "\n"
     ]
    }
   ],
   "source": [
    "from sklearn.datasets import load_iris\n",
    "from sklearn.model_selection import train_test_split\n",
    "from sklearn.preprocessing import StandardScaler\n",
    "from sklearn.tree import DecisionTreeClassifier\n",
    "from sklearn.metrics import classification_report\n",
    "\n",
    "class DataLoader:\n",
    "    def __init__(self):\n",
    "        self.X, self.y = load_iris(return_X_y=True)\n",
    "    def split(self, test_size=0.3, random_state=42):\n",
    "        return train_test_split(self.X, self.y, test_size=test_size,\n",
    "random_state=random_state)\n",
    "\n",
    "class Preprocessor:\n",
    "    def __init__(self):\n",
    "        self.scaler = StandardScaler()\n",
    "    def fit_transform(self, X_train):\n",
    "        return self.scaler.fit_transform(X_train)\n",
    "    def transform(self, X_test):\n",
    "        return self.scaler.transform(X_test)\n",
    "\n",
    "class MLModel:\n",
    "    def __init__(self):\n",
    "        self.model = DecisionTreeClassifier()\n",
    "    def train(self, X_train, y_train):\n",
    "        self.model.fit(X_train, y_train)\n",
    "    def predict(self, X_test):\n",
    "        return self.model.predict(X_test)\n",
    "\n",
    "class Evaluator:\n",
    "    def __init__(self, y_true, y_pred):\n",
    "        self.y_true = y_true\n",
    "        self.y_pred = y_pred\n",
    "\n",
    "    def report(self):\n",
    "        print(\"Classification Report:\\n\")\n",
    "        print(classification_report(self.y_true, self.y_pred))\n",
    "\n",
    "class MLApplication:\n",
    "    def __init__(self):\n",
    "        self.loader = DataLoader()\n",
    "        self.preprocessor = Preprocessor()\n",
    "        self.model = MLModel()\n",
    "    def run(self):\n",
    "       \n",
    "        X_train, X_test, y_train, y_test = self.loader.split()\n",
    "\n",
    "        # Preprocess data\n",
    "        X_train_scaled = self.preprocessor.fit_transform(X_train)\n",
    "        X_test_scaled = self.preprocessor.transform(X_test)\n",
    "        # Train model\n",
    "        self.model.train(X_train_scaled, y_train)\n",
    "        y_pred = self.model.predict(X_test_scaled)\n",
    "        # Evaluate\n",
    "        evaluator = Evaluator(y_test, y_pred)\n",
    "        evaluator.report()\n",
    "\n",
    "app = MLApplication()\n",
    "app.run()"
   ]
  },
  {
   "cell_type": "code",
   "execution_count": null,
   "id": "408c082c",
   "metadata": {},
   "outputs": [],
   "source": []
  }
 ],
 "metadata": {
  "kernelspec": {
   "display_name": "base",
   "language": "python",
   "name": "python3"
  },
  "language_info": {
   "codemirror_mode": {
    "name": "ipython",
    "version": 3
   },
   "file_extension": ".py",
   "mimetype": "text/x-python",
   "name": "python",
   "nbconvert_exporter": "python",
   "pygments_lexer": "ipython3",
   "version": "3.12.4"
  }
 },
 "nbformat": 4,
 "nbformat_minor": 5
}
